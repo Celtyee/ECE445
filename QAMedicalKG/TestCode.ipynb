{
 "cells": [
  {
   "cell_type": "code",
   "execution_count": 2,
   "metadata": {
    "collapsed": true
   },
   "outputs": [
    {
     "name": "stdout",
     "output_type": "stream",
     "text": [
      "model init finished ......\n"
     ]
    }
   ],
   "source": [
    "from question_classifier import *\n",
    "from question_parser import *\n",
    "from answer_search import *\n",
    "classifier = QuestionClassifier()"
   ]
  },
  {
   "cell_type": "code",
   "execution_count": 16,
   "outputs": [
    {
     "data": {
      "text/plain": "['disease']"
     },
     "execution_count": 16,
     "metadata": {},
     "output_type": "execute_result"
    }
   ],
   "source": [
    "question = \"感冒的症状是什么\"\n",
    "data = {}\n",
    "medical_dict = classifier.check_medical(question)\n",
    "data['args'] = medical_dict\n",
    "# 收集问句当中所涉及到的实体类型\n",
    "types = []\n",
    "for type_ in medical_dict.values():\n",
    "    types += type_\n",
    "question_type = 'others'\n",
    "types"
   ],
   "metadata": {
    "collapsed": false
   }
  },
  {
   "cell_type": "markdown",
   "source": [],
   "metadata": {
    "collapsed": false
   }
  },
  {
   "cell_type": "code",
   "execution_count": 17,
   "outputs": [
    {
     "data": {
      "text/plain": "True"
     },
     "execution_count": 17,
     "metadata": {},
     "output_type": "execute_result"
    }
   ],
   "source": [
    "classifier.check_words(classifier.symptom_qwds, question) and ('disease' in types)"
   ],
   "metadata": {
    "collapsed": false
   }
  },
  {
   "cell_type": "code",
   "execution_count": 21,
   "outputs": [],
   "source": [
    "sent = question\n",
    "res_classify = classifier.classify(sent)"
   ],
   "metadata": {
    "collapsed": false
   }
  },
  {
   "cell_type": "code",
   "execution_count": 23,
   "outputs": [
    {
     "data": {
      "text/plain": "[{'question_type': 'disease_symptom',\n  'sql': [\"MATCH (m:Disease)-[r:has_symptom]->(n:Symptom) where m.name = '感冒' return m.name, r.name, n.name\"]}]"
     },
     "execution_count": 23,
     "metadata": {},
     "output_type": "execute_result"
    }
   ],
   "source": [
    "parser = QuestionPaser()\n",
    "res_sql = parser.parser_main(res_classify)\n",
    "res_sql"
   ],
   "metadata": {
    "collapsed": false
   }
  },
  {
   "cell_type": "code",
   "execution_count": null,
   "outputs": [],
   "source": [
    "g = Graph(\"bolt://localhost:7687\", auth=(\"neo4j\", \"qly2333.\"))\n"
   ],
   "metadata": {
    "collapsed": false
   }
  },
  {
   "cell_type": "markdown",
   "source": [],
   "metadata": {
    "collapsed": false
   }
  }
 ],
 "metadata": {
  "kernelspec": {
   "display_name": "Python 3",
   "language": "python",
   "name": "python3"
  },
  "language_info": {
   "codemirror_mode": {
    "name": "ipython",
    "version": 2
   },
   "file_extension": ".py",
   "mimetype": "text/x-python",
   "name": "python",
   "nbconvert_exporter": "python",
   "pygments_lexer": "ipython2",
   "version": "2.7.6"
  }
 },
 "nbformat": 4,
 "nbformat_minor": 0
}
