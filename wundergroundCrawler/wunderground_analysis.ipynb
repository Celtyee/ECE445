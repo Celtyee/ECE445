{
 "cells": [
  {
   "cell_type": "code",
   "execution_count": 38,
   "metadata": {
    "collapsed": true
   },
   "outputs": [],
   "source": [
    "# 打开本地HTML文件并读入\n",
    "import pandas as pd\n",
    "from selenium import webdriver\n",
    "from selenium.webdriver.support.ui import WebDriverWait\n",
    "from selenium.webdriver.support import expected_conditions as EC\n",
    "from selenium.webdriver.common.by import By\n",
    "\n",
    "\n",
    "def download_html_file(url, save_path=\"current_file.html\"):\n",
    "    # 实例化 webdriver 对象\n",
    "    driver = webdriver.Chrome(executable_path=\"D:\\chromedriver_win32\\chromedriver.exe\")\n",
    "    driver.get(url)\n",
    "    elem = WebDriverWait(driver, 10).until(EC.presence_of_element_located((By.XPATH,\n",
    "                                                                           '''//*[@id=\"inner-content\"]/div[2]/div[1]/div[5]/div[1]/div/lib-city-history-observation/div/div[2]''')))\n",
    "    with open(save_path, \"w\", encoding=\"utf-8\") as f:\n",
    "        f.write(driver.page_source)\n",
    "    driver.quit()\n",
    "\n",
    "\n",
    "def read_weather_table(file_path=\"current_file.html\"):\n",
    "    with open(file_path, 'r', encoding='utf-8') as f:\n",
    "        html_string = f.read()\n",
    "\n",
    "    # 使用pandas的read_html函数解析HTML表格\n",
    "    table = pd.read_html(html_string)\n",
    "    weather = table[0]\n",
    "    weather = weather.dropna(axis=0, how='all')\n",
    "    return weather"
   ]
  },
  {
   "cell_type": "code",
   "execution_count": 39,
   "outputs": [
    {
     "name": "stderr",
     "output_type": "stream",
     "text": [
      "D:\\Users\\24105\\anaconda3\\envs\\liyang_kg_py36\\lib\\site-packages\\ipykernel_launcher.py:11: DeprecationWarning: executable_path has been deprecated, please pass in a Service object\n",
      "  # This is added back by InteractiveShellApp.init_path()\n"
     ]
    }
   ],
   "source": [
    "download_html_file(url=\"https://www.wunderground.com/history/daily/ZSHC/date/2023-03-02\")\n",
    "weather = read_weather_table()"
   ],
   "metadata": {
    "collapsed": false
   }
  }
 ],
 "metadata": {
  "kernelspec": {
   "display_name": "Python 3",
   "language": "python",
   "name": "python3"
  },
  "language_info": {
   "codemirror_mode": {
    "name": "ipython",
    "version": 2
   },
   "file_extension": ".py",
   "mimetype": "text/x-python",
   "name": "python",
   "nbconvert_exporter": "python",
   "pygments_lexer": "ipython2",
   "version": "2.7.6"
  }
 },
 "nbformat": 4,
 "nbformat_minor": 0
}
