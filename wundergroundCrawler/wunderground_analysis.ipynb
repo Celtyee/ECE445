{
 "cells": [
  {
   "cell_type": "code",
   "execution_count": 1,
   "metadata": {
    "collapsed": true
   },
   "outputs": [],
   "source": [
    "# 打开本地HTML文件并读入\n",
    "import pandas as pd\n",
    "from selenium import webdriver\n",
    "from selenium.webdriver.support.ui import WebDriverWait\n",
    "from selenium.webdriver.support import expected_conditions as EC\n",
    "from selenium.webdriver.common.by import By\n",
    "\n",
    "\n",
    "def download_html_file(url, save_path=\"current_file.html\"):\n",
    "    # 实例化 webdriver 对象\n",
    "    driver = webdriver.Chrome(executable_path=\"D:\\chromedriver_win32\\chromedriver.exe\")\n",
    "    driver.get(url)\n",
    "    elem = WebDriverWait(driver, 10).until(EC.presence_of_element_located((By.XPATH,\n",
    "                                                                           '''//*[@id=\"inner-content\"]/div[2]/div[1]/div[5]/div[1]/div/lib-city-history-observation/div/div[2]''')))\n",
    "    with open(save_path, \"w\", encoding=\"utf-8\") as f:\n",
    "        f.write(driver.page_source)\n",
    "    driver.quit()\n",
    "\n",
    "\n",
    "def read_weather_table(file_path=\"current_file.html\"):\n",
    "    with open(file_path, 'r', encoding='utf-8') as f:\n",
    "        html_string = f.read()\n",
    "\n",
    "    # 使用pandas的read_html函数解析HTML表格\n",
    "    table = pd.read_html(html_string)\n",
    "    weather = table[0]\n",
    "    weather = weather.dropna(axis=0, how='all')\n",
    "    return weather"
   ]
  },
  {
   "cell_type": "code",
   "execution_count": null,
   "outputs": [
    {
     "ename": "NameError",
     "evalue": "name 'weater' is not defined",
     "output_type": "error",
     "traceback": [
      "\u001B[1;31m---------------------------------------------------------------------------\u001B[0m",
      "\u001B[1;31mNameError\u001B[0m                                 Traceback (most recent call last)",
      "\u001B[1;32m~\\AppData\\Local\\Temp\\ipykernel_13360\\1141143612.py\u001B[0m in \u001B[0;36m<module>\u001B[1;34m\u001B[0m\n\u001B[0;32m      1\u001B[0m \u001B[0mdownload_html_file\u001B[0m\u001B[1;33m(\u001B[0m\u001B[0murl\u001B[0m\u001B[1;33m=\u001B[0m\u001B[1;34m\"https://www.wunderground.com/history/daily/ZSHC/date/2023-03-02\"\u001B[0m\u001B[1;33m)\u001B[0m\u001B[1;33m\u001B[0m\u001B[1;33m\u001B[0m\u001B[0m\n\u001B[0;32m      2\u001B[0m \u001B[0mweather\u001B[0m \u001B[1;33m=\u001B[0m \u001B[0mread_weather_table\u001B[0m\u001B[1;33m(\u001B[0m\u001B[1;33m)\u001B[0m\u001B[1;33m\u001B[0m\u001B[1;33m\u001B[0m\u001B[0m\n\u001B[1;32m----> 3\u001B[1;33m \u001B[0mtype\u001B[0m\u001B[1;33m(\u001B[0m\u001B[0mweater\u001B[0m\u001B[1;33m)\u001B[0m\u001B[1;33m\u001B[0m\u001B[1;33m\u001B[0m\u001B[0m\n\u001B[0m",
      "\u001B[1;31mNameError\u001B[0m: name 'weater' is not defined"
     ]
    }
   ],
   "source": [
    "download_html_file(url=\"https://www.wunderground.com/history/daily/ZSHC/date/2023-03-02\")"
   ],
   "metadata": {
    "collapsed": false
   }
  },
  {
   "cell_type": "code",
   "execution_count": 60,
   "outputs": [
    {
     "data": {
      "text/plain": "        Time Temperature Dew Point Humidity  Wind Wind Speed Wind Gust  \\\n0   12:00 AM        50.0      36.0     58.0    NE       11.0       0.0   \n1   12:30 AM        50.0      36.0     58.0   ENE        9.0       0.0   \n2    1:00 AM        50.0      34.0     54.0    NE        9.0       0.0   \n3    1:30 AM        50.0      34.0     54.0    NE        9.0       0.0   \n4    2:00 AM        48.0      32.0     54.0    NE        7.0       0.0   \n5    2:30 AM        48.0      32.0     54.0   NNE        4.0       0.0   \n6    3:00 AM        46.0      34.0     62.0   ENE        4.0       0.0   \n7    3:30 AM        46.0      32.0     57.0   NNE        2.0       0.0   \n8    4:00 AM        45.0      34.0     66.0     N        4.0       0.0   \n9    4:30 AM        45.0      36.0     71.0     N        4.0       0.0   \n10   5:00 AM        45.0      34.0     66.0     N        4.0       0.0   \n11   5:30 AM        43.0      36.0     76.0  CALM        0.0       0.0   \n12   6:00 AM        45.0      34.0     66.0  CALM        0.0       0.0   \n13   6:30 AM        41.0      34.0     76.0  CALM        0.0       0.0   \n14   7:00 AM        41.0      36.0     81.0  CALM        0.0       0.0   \n15   7:30 AM        46.0      34.0     62.0     N        7.0       0.0   \n16   8:00 AM        48.0      34.0     57.0   NNE        7.0       0.0   \n17   8:30 AM        50.0      32.0     50.0   NNE        9.0       0.0   \n18   9:00 AM        52.0      30.0     44.0   NNE        9.0       0.0   \n19   9:30 AM        52.0      30.0     44.0   NNE        9.0       0.0   \n20  10:00 AM        54.0      30.0     41.0   ENE        9.0       0.0   \n21  10:30 AM        55.0      28.0     36.0    NE        7.0       0.0   \n22  11:00 AM        55.0      27.0     33.0    NE        4.0       0.0   \n23  11:30 AM        55.0      27.0     33.0     E        7.0       0.0   \n24  12:00 PM        57.0      25.0     29.0   ENE        9.0       0.0   \n25  12:30 PM        57.0      23.0     27.0    NE        7.0       0.0   \n26   1:00 PM        57.0      25.0     29.0   ESE        7.0       0.0   \n27   1:30 PM        59.0      23.0     25.0   VAR        2.0       0.0   \n28   2:00 PM        59.0      23.0     25.0   NNW        7.0       0.0   \n29   2:30 PM        59.0      25.0     27.0     N        9.0       0.0   \n30   3:00 PM        59.0      25.0     27.0   NNW        7.0       0.0   \n31   3:30 PM        57.0      23.0     27.0     N        4.0       0.0   \n32   4:00 PM        59.0      25.0     27.0    NW        7.0       0.0   \n33   4:30 PM        59.0      25.0     27.0     N        7.0       0.0   \n34   5:00 PM        57.0      25.0     29.0     N        9.0       0.0   \n35   5:30 PM        57.0      23.0     27.0   NNE        9.0       0.0   \n36   6:00 PM        54.0      25.0     33.0   ENE        9.0       0.0   \n37   6:30 PM        52.0      25.0     35.0   ENE       11.0       0.0   \n38   7:00 PM        50.0      27.0     40.0   ENE        9.0       0.0   \n39   7:30 PM        46.0      28.0     50.0   ENE        7.0       0.0   \n40   8:00 PM        50.0      34.0     54.0     E       11.0       0.0   \n41   8:30 PM        48.0      37.0     66.0   ENE        9.0       0.0   \n42   9:00 PM        48.0      39.0     71.0     E        9.0       0.0   \n43   9:30 PM        46.0      37.0     71.0     E        7.0       0.0   \n44  10:00 PM        46.0      37.0     71.0     E        9.0       0.0   \n45  10:30 PM        45.0      37.0     76.0     E        7.0       0.0   \n46  11:00 PM        45.0      37.0     76.0     E        9.0       0.0   \n47  11:30 PM        45.0      37.0     76.0     E        7.0       0.0   \n\n   Pressure Precip.      Condition  \n0     30.42     0.0  Partly Cloudy  \n1     30.42     0.0  Partly Cloudy  \n2     30.42     0.0  Partly Cloudy  \n3     30.42     0.0  Partly Cloudy  \n4     30.42     0.0  Partly Cloudy  \n5     30.42     0.0           Fair  \n6     30.42     0.0           Fair  \n7     30.42     0.0           Fair  \n8     30.42     0.0           Fair  \n9     30.42     0.0           Fair  \n10    30.42     0.0           Fair  \n11    30.42     0.0           Fair  \n12    30.45     0.0           Fair  \n13    30.45     0.0           Fair  \n14    30.45     0.0           Fair  \n15    30.45     0.0           Haze  \n16    30.45     0.0           Haze  \n17    30.48     0.0           Fair  \n18    30.48     0.0           Fair  \n19    30.51     0.0           Fair  \n20    30.51     0.0           Fair  \n21    30.48     0.0           Fair  \n22    30.48     0.0           Fair  \n23    30.48     0.0           Fair  \n24    30.48     0.0           Fair  \n25    30.45     0.0           Fair  \n26    30.45     0.0           Fair  \n27    30.42     0.0           Fair  \n28    30.42     0.0           Fair  \n29    30.39     0.0           Fair  \n30    30.39     0.0           Fair  \n31    30.39     0.0           Fair  \n32    30.39     0.0           Fair  \n33    30.39     0.0           Fair  \n34    30.39     0.0           Fair  \n35    30.39     0.0           Fair  \n36    30.39     0.0           Fair  \n37    30.39     0.0           Fair  \n38    30.39     0.0           Fair  \n39    30.39     0.0           Fair  \n40    30.42     0.0           Fair  \n41    30.42     0.0           Fair  \n42    30.42     0.0           Fair  \n43    30.42     0.0           Fair  \n44    30.42     0.0           Fair  \n45    30.42     0.0           Fair  \n46    30.39     0.0           Fair  \n47    30.42     0.0           Fair  ",
      "text/html": "<div>\n<style scoped>\n    .dataframe tbody tr th:only-of-type {\n        vertical-align: middle;\n    }\n\n    .dataframe tbody tr th {\n        vertical-align: top;\n    }\n\n    .dataframe thead th {\n        text-align: right;\n    }\n</style>\n<table border=\"1\" class=\"dataframe\">\n  <thead>\n    <tr style=\"text-align: right;\">\n      <th></th>\n      <th>Time</th>\n      <th>Temperature</th>\n      <th>Dew Point</th>\n      <th>Humidity</th>\n      <th>Wind</th>\n      <th>Wind Speed</th>\n      <th>Wind Gust</th>\n      <th>Pressure</th>\n      <th>Precip.</th>\n      <th>Condition</th>\n    </tr>\n  </thead>\n  <tbody>\n    <tr>\n      <th>0</th>\n      <td>12:00 AM</td>\n      <td>50.0</td>\n      <td>36.0</td>\n      <td>58.0</td>\n      <td>NE</td>\n      <td>11.0</td>\n      <td>0.0</td>\n      <td>30.42</td>\n      <td>0.0</td>\n      <td>Partly Cloudy</td>\n    </tr>\n    <tr>\n      <th>1</th>\n      <td>12:30 AM</td>\n      <td>50.0</td>\n      <td>36.0</td>\n      <td>58.0</td>\n      <td>ENE</td>\n      <td>9.0</td>\n      <td>0.0</td>\n      <td>30.42</td>\n      <td>0.0</td>\n      <td>Partly Cloudy</td>\n    </tr>\n    <tr>\n      <th>2</th>\n      <td>1:00 AM</td>\n      <td>50.0</td>\n      <td>34.0</td>\n      <td>54.0</td>\n      <td>NE</td>\n      <td>9.0</td>\n      <td>0.0</td>\n      <td>30.42</td>\n      <td>0.0</td>\n      <td>Partly Cloudy</td>\n    </tr>\n    <tr>\n      <th>3</th>\n      <td>1:30 AM</td>\n      <td>50.0</td>\n      <td>34.0</td>\n      <td>54.0</td>\n      <td>NE</td>\n      <td>9.0</td>\n      <td>0.0</td>\n      <td>30.42</td>\n      <td>0.0</td>\n      <td>Partly Cloudy</td>\n    </tr>\n    <tr>\n      <th>4</th>\n      <td>2:00 AM</td>\n      <td>48.0</td>\n      <td>32.0</td>\n      <td>54.0</td>\n      <td>NE</td>\n      <td>7.0</td>\n      <td>0.0</td>\n      <td>30.42</td>\n      <td>0.0</td>\n      <td>Partly Cloudy</td>\n    </tr>\n    <tr>\n      <th>5</th>\n      <td>2:30 AM</td>\n      <td>48.0</td>\n      <td>32.0</td>\n      <td>54.0</td>\n      <td>NNE</td>\n      <td>4.0</td>\n      <td>0.0</td>\n      <td>30.42</td>\n      <td>0.0</td>\n      <td>Fair</td>\n    </tr>\n    <tr>\n      <th>6</th>\n      <td>3:00 AM</td>\n      <td>46.0</td>\n      <td>34.0</td>\n      <td>62.0</td>\n      <td>ENE</td>\n      <td>4.0</td>\n      <td>0.0</td>\n      <td>30.42</td>\n      <td>0.0</td>\n      <td>Fair</td>\n    </tr>\n    <tr>\n      <th>7</th>\n      <td>3:30 AM</td>\n      <td>46.0</td>\n      <td>32.0</td>\n      <td>57.0</td>\n      <td>NNE</td>\n      <td>2.0</td>\n      <td>0.0</td>\n      <td>30.42</td>\n      <td>0.0</td>\n      <td>Fair</td>\n    </tr>\n    <tr>\n      <th>8</th>\n      <td>4:00 AM</td>\n      <td>45.0</td>\n      <td>34.0</td>\n      <td>66.0</td>\n      <td>N</td>\n      <td>4.0</td>\n      <td>0.0</td>\n      <td>30.42</td>\n      <td>0.0</td>\n      <td>Fair</td>\n    </tr>\n    <tr>\n      <th>9</th>\n      <td>4:30 AM</td>\n      <td>45.0</td>\n      <td>36.0</td>\n      <td>71.0</td>\n      <td>N</td>\n      <td>4.0</td>\n      <td>0.0</td>\n      <td>30.42</td>\n      <td>0.0</td>\n      <td>Fair</td>\n    </tr>\n    <tr>\n      <th>10</th>\n      <td>5:00 AM</td>\n      <td>45.0</td>\n      <td>34.0</td>\n      <td>66.0</td>\n      <td>N</td>\n      <td>4.0</td>\n      <td>0.0</td>\n      <td>30.42</td>\n      <td>0.0</td>\n      <td>Fair</td>\n    </tr>\n    <tr>\n      <th>11</th>\n      <td>5:30 AM</td>\n      <td>43.0</td>\n      <td>36.0</td>\n      <td>76.0</td>\n      <td>CALM</td>\n      <td>0.0</td>\n      <td>0.0</td>\n      <td>30.42</td>\n      <td>0.0</td>\n      <td>Fair</td>\n    </tr>\n    <tr>\n      <th>12</th>\n      <td>6:00 AM</td>\n      <td>45.0</td>\n      <td>34.0</td>\n      <td>66.0</td>\n      <td>CALM</td>\n      <td>0.0</td>\n      <td>0.0</td>\n      <td>30.45</td>\n      <td>0.0</td>\n      <td>Fair</td>\n    </tr>\n    <tr>\n      <th>13</th>\n      <td>6:30 AM</td>\n      <td>41.0</td>\n      <td>34.0</td>\n      <td>76.0</td>\n      <td>CALM</td>\n      <td>0.0</td>\n      <td>0.0</td>\n      <td>30.45</td>\n      <td>0.0</td>\n      <td>Fair</td>\n    </tr>\n    <tr>\n      <th>14</th>\n      <td>7:00 AM</td>\n      <td>41.0</td>\n      <td>36.0</td>\n      <td>81.0</td>\n      <td>CALM</td>\n      <td>0.0</td>\n      <td>0.0</td>\n      <td>30.45</td>\n      <td>0.0</td>\n      <td>Fair</td>\n    </tr>\n    <tr>\n      <th>15</th>\n      <td>7:30 AM</td>\n      <td>46.0</td>\n      <td>34.0</td>\n      <td>62.0</td>\n      <td>N</td>\n      <td>7.0</td>\n      <td>0.0</td>\n      <td>30.45</td>\n      <td>0.0</td>\n      <td>Haze</td>\n    </tr>\n    <tr>\n      <th>16</th>\n      <td>8:00 AM</td>\n      <td>48.0</td>\n      <td>34.0</td>\n      <td>57.0</td>\n      <td>NNE</td>\n      <td>7.0</td>\n      <td>0.0</td>\n      <td>30.45</td>\n      <td>0.0</td>\n      <td>Haze</td>\n    </tr>\n    <tr>\n      <th>17</th>\n      <td>8:30 AM</td>\n      <td>50.0</td>\n      <td>32.0</td>\n      <td>50.0</td>\n      <td>NNE</td>\n      <td>9.0</td>\n      <td>0.0</td>\n      <td>30.48</td>\n      <td>0.0</td>\n      <td>Fair</td>\n    </tr>\n    <tr>\n      <th>18</th>\n      <td>9:00 AM</td>\n      <td>52.0</td>\n      <td>30.0</td>\n      <td>44.0</td>\n      <td>NNE</td>\n      <td>9.0</td>\n      <td>0.0</td>\n      <td>30.48</td>\n      <td>0.0</td>\n      <td>Fair</td>\n    </tr>\n    <tr>\n      <th>19</th>\n      <td>9:30 AM</td>\n      <td>52.0</td>\n      <td>30.0</td>\n      <td>44.0</td>\n      <td>NNE</td>\n      <td>9.0</td>\n      <td>0.0</td>\n      <td>30.51</td>\n      <td>0.0</td>\n      <td>Fair</td>\n    </tr>\n    <tr>\n      <th>20</th>\n      <td>10:00 AM</td>\n      <td>54.0</td>\n      <td>30.0</td>\n      <td>41.0</td>\n      <td>ENE</td>\n      <td>9.0</td>\n      <td>0.0</td>\n      <td>30.51</td>\n      <td>0.0</td>\n      <td>Fair</td>\n    </tr>\n    <tr>\n      <th>21</th>\n      <td>10:30 AM</td>\n      <td>55.0</td>\n      <td>28.0</td>\n      <td>36.0</td>\n      <td>NE</td>\n      <td>7.0</td>\n      <td>0.0</td>\n      <td>30.48</td>\n      <td>0.0</td>\n      <td>Fair</td>\n    </tr>\n    <tr>\n      <th>22</th>\n      <td>11:00 AM</td>\n      <td>55.0</td>\n      <td>27.0</td>\n      <td>33.0</td>\n      <td>NE</td>\n      <td>4.0</td>\n      <td>0.0</td>\n      <td>30.48</td>\n      <td>0.0</td>\n      <td>Fair</td>\n    </tr>\n    <tr>\n      <th>23</th>\n      <td>11:30 AM</td>\n      <td>55.0</td>\n      <td>27.0</td>\n      <td>33.0</td>\n      <td>E</td>\n      <td>7.0</td>\n      <td>0.0</td>\n      <td>30.48</td>\n      <td>0.0</td>\n      <td>Fair</td>\n    </tr>\n    <tr>\n      <th>24</th>\n      <td>12:00 PM</td>\n      <td>57.0</td>\n      <td>25.0</td>\n      <td>29.0</td>\n      <td>ENE</td>\n      <td>9.0</td>\n      <td>0.0</td>\n      <td>30.48</td>\n      <td>0.0</td>\n      <td>Fair</td>\n    </tr>\n    <tr>\n      <th>25</th>\n      <td>12:30 PM</td>\n      <td>57.0</td>\n      <td>23.0</td>\n      <td>27.0</td>\n      <td>NE</td>\n      <td>7.0</td>\n      <td>0.0</td>\n      <td>30.45</td>\n      <td>0.0</td>\n      <td>Fair</td>\n    </tr>\n    <tr>\n      <th>26</th>\n      <td>1:00 PM</td>\n      <td>57.0</td>\n      <td>25.0</td>\n      <td>29.0</td>\n      <td>ESE</td>\n      <td>7.0</td>\n      <td>0.0</td>\n      <td>30.45</td>\n      <td>0.0</td>\n      <td>Fair</td>\n    </tr>\n    <tr>\n      <th>27</th>\n      <td>1:30 PM</td>\n      <td>59.0</td>\n      <td>23.0</td>\n      <td>25.0</td>\n      <td>VAR</td>\n      <td>2.0</td>\n      <td>0.0</td>\n      <td>30.42</td>\n      <td>0.0</td>\n      <td>Fair</td>\n    </tr>\n    <tr>\n      <th>28</th>\n      <td>2:00 PM</td>\n      <td>59.0</td>\n      <td>23.0</td>\n      <td>25.0</td>\n      <td>NNW</td>\n      <td>7.0</td>\n      <td>0.0</td>\n      <td>30.42</td>\n      <td>0.0</td>\n      <td>Fair</td>\n    </tr>\n    <tr>\n      <th>29</th>\n      <td>2:30 PM</td>\n      <td>59.0</td>\n      <td>25.0</td>\n      <td>27.0</td>\n      <td>N</td>\n      <td>9.0</td>\n      <td>0.0</td>\n      <td>30.39</td>\n      <td>0.0</td>\n      <td>Fair</td>\n    </tr>\n    <tr>\n      <th>30</th>\n      <td>3:00 PM</td>\n      <td>59.0</td>\n      <td>25.0</td>\n      <td>27.0</td>\n      <td>NNW</td>\n      <td>7.0</td>\n      <td>0.0</td>\n      <td>30.39</td>\n      <td>0.0</td>\n      <td>Fair</td>\n    </tr>\n    <tr>\n      <th>31</th>\n      <td>3:30 PM</td>\n      <td>57.0</td>\n      <td>23.0</td>\n      <td>27.0</td>\n      <td>N</td>\n      <td>4.0</td>\n      <td>0.0</td>\n      <td>30.39</td>\n      <td>0.0</td>\n      <td>Fair</td>\n    </tr>\n    <tr>\n      <th>32</th>\n      <td>4:00 PM</td>\n      <td>59.0</td>\n      <td>25.0</td>\n      <td>27.0</td>\n      <td>NW</td>\n      <td>7.0</td>\n      <td>0.0</td>\n      <td>30.39</td>\n      <td>0.0</td>\n      <td>Fair</td>\n    </tr>\n    <tr>\n      <th>33</th>\n      <td>4:30 PM</td>\n      <td>59.0</td>\n      <td>25.0</td>\n      <td>27.0</td>\n      <td>N</td>\n      <td>7.0</td>\n      <td>0.0</td>\n      <td>30.39</td>\n      <td>0.0</td>\n      <td>Fair</td>\n    </tr>\n    <tr>\n      <th>34</th>\n      <td>5:00 PM</td>\n      <td>57.0</td>\n      <td>25.0</td>\n      <td>29.0</td>\n      <td>N</td>\n      <td>9.0</td>\n      <td>0.0</td>\n      <td>30.39</td>\n      <td>0.0</td>\n      <td>Fair</td>\n    </tr>\n    <tr>\n      <th>35</th>\n      <td>5:30 PM</td>\n      <td>57.0</td>\n      <td>23.0</td>\n      <td>27.0</td>\n      <td>NNE</td>\n      <td>9.0</td>\n      <td>0.0</td>\n      <td>30.39</td>\n      <td>0.0</td>\n      <td>Fair</td>\n    </tr>\n    <tr>\n      <th>36</th>\n      <td>6:00 PM</td>\n      <td>54.0</td>\n      <td>25.0</td>\n      <td>33.0</td>\n      <td>ENE</td>\n      <td>9.0</td>\n      <td>0.0</td>\n      <td>30.39</td>\n      <td>0.0</td>\n      <td>Fair</td>\n    </tr>\n    <tr>\n      <th>37</th>\n      <td>6:30 PM</td>\n      <td>52.0</td>\n      <td>25.0</td>\n      <td>35.0</td>\n      <td>ENE</td>\n      <td>11.0</td>\n      <td>0.0</td>\n      <td>30.39</td>\n      <td>0.0</td>\n      <td>Fair</td>\n    </tr>\n    <tr>\n      <th>38</th>\n      <td>7:00 PM</td>\n      <td>50.0</td>\n      <td>27.0</td>\n      <td>40.0</td>\n      <td>ENE</td>\n      <td>9.0</td>\n      <td>0.0</td>\n      <td>30.39</td>\n      <td>0.0</td>\n      <td>Fair</td>\n    </tr>\n    <tr>\n      <th>39</th>\n      <td>7:30 PM</td>\n      <td>46.0</td>\n      <td>28.0</td>\n      <td>50.0</td>\n      <td>ENE</td>\n      <td>7.0</td>\n      <td>0.0</td>\n      <td>30.39</td>\n      <td>0.0</td>\n      <td>Fair</td>\n    </tr>\n    <tr>\n      <th>40</th>\n      <td>8:00 PM</td>\n      <td>50.0</td>\n      <td>34.0</td>\n      <td>54.0</td>\n      <td>E</td>\n      <td>11.0</td>\n      <td>0.0</td>\n      <td>30.42</td>\n      <td>0.0</td>\n      <td>Fair</td>\n    </tr>\n    <tr>\n      <th>41</th>\n      <td>8:30 PM</td>\n      <td>48.0</td>\n      <td>37.0</td>\n      <td>66.0</td>\n      <td>ENE</td>\n      <td>9.0</td>\n      <td>0.0</td>\n      <td>30.42</td>\n      <td>0.0</td>\n      <td>Fair</td>\n    </tr>\n    <tr>\n      <th>42</th>\n      <td>9:00 PM</td>\n      <td>48.0</td>\n      <td>39.0</td>\n      <td>71.0</td>\n      <td>E</td>\n      <td>9.0</td>\n      <td>0.0</td>\n      <td>30.42</td>\n      <td>0.0</td>\n      <td>Fair</td>\n    </tr>\n    <tr>\n      <th>43</th>\n      <td>9:30 PM</td>\n      <td>46.0</td>\n      <td>37.0</td>\n      <td>71.0</td>\n      <td>E</td>\n      <td>7.0</td>\n      <td>0.0</td>\n      <td>30.42</td>\n      <td>0.0</td>\n      <td>Fair</td>\n    </tr>\n    <tr>\n      <th>44</th>\n      <td>10:00 PM</td>\n      <td>46.0</td>\n      <td>37.0</td>\n      <td>71.0</td>\n      <td>E</td>\n      <td>9.0</td>\n      <td>0.0</td>\n      <td>30.42</td>\n      <td>0.0</td>\n      <td>Fair</td>\n    </tr>\n    <tr>\n      <th>45</th>\n      <td>10:30 PM</td>\n      <td>45.0</td>\n      <td>37.0</td>\n      <td>76.0</td>\n      <td>E</td>\n      <td>7.0</td>\n      <td>0.0</td>\n      <td>30.42</td>\n      <td>0.0</td>\n      <td>Fair</td>\n    </tr>\n    <tr>\n      <th>46</th>\n      <td>11:00 PM</td>\n      <td>45.0</td>\n      <td>37.0</td>\n      <td>76.0</td>\n      <td>E</td>\n      <td>9.0</td>\n      <td>0.0</td>\n      <td>30.39</td>\n      <td>0.0</td>\n      <td>Fair</td>\n    </tr>\n    <tr>\n      <th>47</th>\n      <td>11:30 PM</td>\n      <td>45.0</td>\n      <td>37.0</td>\n      <td>76.0</td>\n      <td>E</td>\n      <td>7.0</td>\n      <td>0.0</td>\n      <td>30.42</td>\n      <td>0.0</td>\n      <td>Fair</td>\n    </tr>\n  </tbody>\n</table>\n</div>"
     },
     "execution_count": 60,
     "metadata": {},
     "output_type": "execute_result"
    }
   ],
   "source": [
    "import pandas as pd\n",
    "import re\n",
    "weather = read_weather_table()\n",
    "\n",
    "def remove_unit(x):\n",
    "    pattern = r\"([-+]?\\d*\\.\\d+|\\d+)\"  # 匹配数值部分的正则表达式\n",
    "    match = re.search(pattern, x)   # 搜索匹配结果\n",
    "    if match is not None:\n",
    "        return float(match.group(0))  # 返回数值部分\n",
    "    else:\n",
    "        return x\n",
    "\n",
    "weather.iloc[:,1:] = weather.iloc[:,1:].applymap(remove_unit)\n",
    "weather"
   ],
   "metadata": {
    "collapsed": false
   }
  },
  {
   "cell_type": "code",
   "execution_count": 52,
   "outputs": [
    {
     "name": "stdout",
     "output_type": "stream",
     "text": [
      "   col1  col2\n",
      "0  10.0  50.0\n",
      "1  20.5  60.2\n",
      "2  30.8  70.0\n",
      "3  40.0  80.3\n"
     ]
    }
   ],
   "source": [
    "\n",
    "# 定义一个函数，用于处理单个数据，去掉其中的单位，返回数值部分\n",
    "def remove_unit(x):\n",
    "    pattern = r\"([-+]?\\d*\\.\\d+|\\d+)\"  # 匹配数值部分的正则表达式\n",
    "    match = re.search(pattern, x)   # 搜索匹配结果\n",
    "    if match is not None:\n",
    "        return float(match.group(0))  # 返回数值部分\n",
    "    else:\n",
    "        return None  # 没有匹配结果，返回None\n",
    "\n",
    "# 创建一个包含单位的DataFrame\n",
    "data = {\"col1\": [\"10 kg\", \"20.5 m/s\", \"30.8 N\", \"40 cm\"],\n",
    "        \"col2\": [\"50 °F\", \"60.2 m\", \"70 Pa\", \"80.3 mm\"]}\n",
    "df = pd.DataFrame(data)\n",
    "\n",
    "# 对整个DataFrame应用函数，去掉数据中的单位\n",
    "new_df = df.applymap(remove_unit)\n",
    "\n",
    "print(new_df)\n"
   ],
   "metadata": {
    "collapsed": false
   }
  }
 ],
 "metadata": {
  "kernelspec": {
   "display_name": "Python 3",
   "language": "python",
   "name": "python3"
  },
  "language_info": {
   "codemirror_mode": {
    "name": "ipython",
    "version": 2
   },
   "file_extension": ".py",
   "mimetype": "text/x-python",
   "name": "python",
   "nbconvert_exporter": "python",
   "pygments_lexer": "ipython2",
   "version": "2.7.6"
  }
 },
 "nbformat": 4,
 "nbformat_minor": 0
}
