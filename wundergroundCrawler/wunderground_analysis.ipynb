{
 "cells": [
  {
   "cell_type": "code",
   "execution_count": 26,
   "metadata": {
    "collapsed": true
   },
   "outputs": [
    {
     "name": "stdout",
     "output_type": "stream",
     "text": [
      "        Time Temperature Dew Point Humidity  Wind Wind Speed Wind Gust  \\\n",
      "0   12:00 AM       50 °F     36 °F    58 °%    NE    11 °mph    0 °mph   \n",
      "1   12:30 AM       50 °F     36 °F    58 °%   ENE     9 °mph    0 °mph   \n",
      "2    1:00 AM       50 °F     34 °F    54 °%    NE     9 °mph    0 °mph   \n",
      "3    1:30 AM       50 °F     34 °F    54 °%    NE     9 °mph    0 °mph   \n",
      "4    2:00 AM       48 °F     32 °F    54 °%    NE     7 °mph    0 °mph   \n",
      "5    2:30 AM       48 °F     32 °F    54 °%   NNE     4 °mph    0 °mph   \n",
      "6    3:00 AM       46 °F     34 °F    62 °%   ENE     4 °mph    0 °mph   \n",
      "7    3:30 AM       46 °F     32 °F    57 °%   NNE     2 °mph    0 °mph   \n",
      "8    4:00 AM       45 °F     34 °F    66 °%     N     4 °mph    0 °mph   \n",
      "9    4:30 AM       45 °F     36 °F    71 °%     N     4 °mph    0 °mph   \n",
      "10   5:00 AM       45 °F     34 °F    66 °%     N     4 °mph    0 °mph   \n",
      "11   5:30 AM       43 °F     36 °F    76 °%  CALM     0 °mph    0 °mph   \n",
      "12   6:00 AM       45 °F     34 °F    66 °%  CALM     0 °mph    0 °mph   \n",
      "13   6:30 AM       41 °F     34 °F    76 °%  CALM     0 °mph    0 °mph   \n",
      "14   7:00 AM       41 °F     36 °F    81 °%  CALM     0 °mph    0 °mph   \n",
      "15   7:30 AM       46 °F     34 °F    62 °%     N     7 °mph    0 °mph   \n",
      "16   8:00 AM       48 °F     34 °F    57 °%   NNE     7 °mph    0 °mph   \n",
      "17   8:30 AM       50 °F     32 °F    50 °%   NNE     9 °mph    0 °mph   \n",
      "18   9:00 AM       52 °F     30 °F    44 °%   NNE     9 °mph    0 °mph   \n",
      "19   9:30 AM       52 °F     30 °F    44 °%   NNE     9 °mph    0 °mph   \n",
      "20  10:00 AM       54 °F     30 °F    41 °%   ENE     9 °mph    0 °mph   \n",
      "21  10:30 AM       55 °F     28 °F    36 °%    NE     7 °mph    0 °mph   \n",
      "22  11:00 AM       55 °F     27 °F    33 °%    NE     4 °mph    0 °mph   \n",
      "23  11:30 AM       55 °F     27 °F    33 °%     E     7 °mph    0 °mph   \n",
      "24  12:00 PM       57 °F     25 °F    29 °%   ENE     9 °mph    0 °mph   \n",
      "25  12:30 PM       57 °F     23 °F    27 °%    NE     7 °mph    0 °mph   \n",
      "26   1:00 PM       57 °F     25 °F    29 °%   ESE     7 °mph    0 °mph   \n",
      "27   1:30 PM       59 °F     23 °F    25 °%   VAR     2 °mph    0 °mph   \n",
      "28   2:00 PM       59 °F     23 °F    25 °%   NNW     7 °mph    0 °mph   \n",
      "29   2:30 PM       59 °F     25 °F    27 °%     N     9 °mph    0 °mph   \n",
      "30   3:00 PM       59 °F     25 °F    27 °%   NNW     7 °mph    0 °mph   \n",
      "31   3:30 PM       57 °F     23 °F    27 °%     N     4 °mph    0 °mph   \n",
      "32   4:00 PM       59 °F     25 °F    27 °%    NW     7 °mph    0 °mph   \n",
      "33   4:30 PM       59 °F     25 °F    27 °%     N     7 °mph    0 °mph   \n",
      "34   5:00 PM       57 °F     25 °F    29 °%     N     9 °mph    0 °mph   \n",
      "35   5:30 PM       57 °F     23 °F    27 °%   NNE     9 °mph    0 °mph   \n",
      "36   6:00 PM       54 °F     25 °F    33 °%   ENE     9 °mph    0 °mph   \n",
      "37   6:30 PM       52 °F     25 °F    35 °%   ENE    11 °mph    0 °mph   \n",
      "38   7:00 PM       50 °F     27 °F    40 °%   ENE     9 °mph    0 °mph   \n",
      "39   7:30 PM       46 °F     28 °F    50 °%   ENE     7 °mph    0 °mph   \n",
      "40   8:00 PM       50 °F     34 °F    54 °%     E    11 °mph    0 °mph   \n",
      "41   8:30 PM       48 °F     37 °F    66 °%   ENE     9 °mph    0 °mph   \n",
      "\n",
      "     Pressure  Precip.      Condition  \n",
      "0   30.42 °in  0.0 °in  Partly Cloudy  \n",
      "1   30.42 °in  0.0 °in  Partly Cloudy  \n",
      "2   30.42 °in  0.0 °in  Partly Cloudy  \n",
      "3   30.42 °in  0.0 °in  Partly Cloudy  \n",
      "4   30.42 °in  0.0 °in  Partly Cloudy  \n",
      "5   30.42 °in  0.0 °in           Fair  \n",
      "6   30.42 °in  0.0 °in           Fair  \n",
      "7   30.42 °in  0.0 °in           Fair  \n",
      "8   30.42 °in  0.0 °in           Fair  \n",
      "9   30.42 °in  0.0 °in           Fair  \n",
      "10  30.42 °in  0.0 °in           Fair  \n",
      "11  30.42 °in  0.0 °in           Fair  \n",
      "12  30.45 °in  0.0 °in           Fair  \n",
      "13  30.45 °in  0.0 °in           Fair  \n",
      "14  30.45 °in  0.0 °in           Fair  \n",
      "15  30.45 °in  0.0 °in           Haze  \n",
      "16  30.45 °in  0.0 °in           Haze  \n",
      "17  30.48 °in  0.0 °in           Fair  \n",
      "18  30.48 °in  0.0 °in           Fair  \n",
      "19  30.51 °in  0.0 °in           Fair  \n",
      "20  30.51 °in  0.0 °in           Fair  \n",
      "21  30.48 °in  0.0 °in           Fair  \n",
      "22  30.48 °in  0.0 °in           Fair  \n",
      "23  30.48 °in  0.0 °in           Fair  \n",
      "24  30.48 °in  0.0 °in           Fair  \n",
      "25  30.45 °in  0.0 °in           Fair  \n",
      "26  30.45 °in  0.0 °in           Fair  \n",
      "27  30.42 °in  0.0 °in           Fair  \n",
      "28  30.42 °in  0.0 °in           Fair  \n",
      "29  30.39 °in  0.0 °in           Fair  \n",
      "30  30.39 °in  0.0 °in           Fair  \n",
      "31  30.39 °in  0.0 °in           Fair  \n",
      "32  30.39 °in  0.0 °in           Fair  \n",
      "33  30.39 °in  0.0 °in           Fair  \n",
      "34  30.39 °in  0.0 °in           Fair  \n",
      "35  30.39 °in  0.0 °in           Fair  \n",
      "36  30.39 °in  0.0 °in           Fair  \n",
      "37  30.39 °in  0.0 °in           Fair  \n",
      "38  30.39 °in  0.0 °in           Fair  \n",
      "39  30.39 °in  0.0 °in           Fair  \n",
      "40  30.42 °in  0.0 °in           Fair  \n",
      "41  30.42 °in  0.0 °in           Fair  \n",
      "<class 'str'>\n"
     ]
    }
   ],
   "source": [
    "import time\n",
    "\n",
    "import pandas as pd\n",
    "import requests\n",
    "\n",
    "# 打开本地HTML文件并读入\n",
    "with open('wunderground_page.html', 'r', encoding='utf-8') as f:\n",
    "    html_string = f.read()\n",
    "\n",
    "# 使用pandas的read_html函数解析HTML表格\n",
    "table = pd.read_html(html_string)\n",
    "weather = table[0]\n",
    "weather = weather.dropna(axis=0, how='all')\n",
    "print(weather)\n",
    "print(type(html_string))"
   ]
  },
  {
   "cell_type": "code",
   "execution_count": 19,
   "outputs": [],
   "source": [
    "type(table[0])\n",
    "table[0].to_csv('output2.csv', index=False)"
   ],
   "metadata": {
    "collapsed": false
   }
  },
  {
   "cell_type": "code",
   "execution_count": 12,
   "outputs": [
    {
     "name": "stdout",
     "output_type": "stream",
     "text": [
      "    Name  Age    Country\n",
      "0    Tom   28         US\n",
      "1   Jack   34         UK\n",
      "2  Steve   29     Canada\n",
      "3  Ricky   42  Australia\n"
     ]
    }
   ],
   "source": [
    "import pandas as pd\n",
    "\n",
    "# 创建DataFrame\n",
    "data = {'Name': ['Tom', 'Jack', 'Steve', 'Ricky'],\n",
    "        'Age': [28, 34, 29, 42],\n",
    "        'Country': ['US', 'UK', 'Canada', 'Australia']}\n",
    "df = pd.DataFrame(data)\n",
    "\n",
    "# 将DataFrame写入CSV文件\n",
    "df.to_csv('output.csv', index=False)\n",
    "print(df)"
   ],
   "metadata": {
    "collapsed": false
   }
  },
  {
   "cell_type": "code",
   "execution_count": 17,
   "outputs": [
    {
     "data": {
      "text/plain": "pandas.core.frame.DataFrame"
     },
     "execution_count": 17,
     "metadata": {},
     "output_type": "execute_result"
    }
   ],
   "source": [
    "type(df)"
   ],
   "metadata": {
    "collapsed": false
   }
  },
  {
   "cell_type": "code",
   "execution_count": 36,
   "outputs": [],
   "source": [
    "import time\n",
    "url = \"https://www.wunderground.com/history/daily/ZSHC/date/2023-03-02\"\n",
    "headers = {\n",
    "    'User-Agent': 'Mozilla/5.0 (Windows NT 10.0; Win64; x64) AppleWebKit/537.36 (KHTML, like Gecko) Chrome/93.0.4577.82 Safari/537.36 Edg/93.0.961.52'\n",
    "}\n",
    "PORT = 7890\n",
    "proxies = {'http': 'http://127.0.0.1:{}'.format(PORT), 'https': 'http://127.0.0.1:{}'.format(PORT)}\n",
    "time.sleep(20)\n",
    "resp = requests.get(url, headers=headers, proxies=proxies)"
   ],
   "metadata": {
    "collapsed": false
   }
  },
  {
   "cell_type": "code",
   "execution_count": 37,
   "outputs": [
    {
     "ename": "ValueError",
     "evalue": "No tables found",
     "output_type": "error",
     "traceback": [
      "\u001B[1;31m---------------------------------------------------------------------------\u001B[0m",
      "\u001B[1;31mValueError\u001B[0m                                Traceback (most recent call last)",
      "\u001B[1;32m~\\AppData\\Local\\Temp\\ipykernel_12244\\3523138289.py\u001B[0m in \u001B[0;36m<module>\u001B[1;34m\u001B[0m\n\u001B[0;32m      1\u001B[0m \u001B[1;32mif\u001B[0m \u001B[0mresp\u001B[0m\u001B[1;33m.\u001B[0m\u001B[0mstatus_code\u001B[0m \u001B[1;33m==\u001B[0m \u001B[1;36m200\u001B[0m\u001B[1;33m:\u001B[0m\u001B[1;33m\u001B[0m\u001B[1;33m\u001B[0m\u001B[0m\n\u001B[0;32m      2\u001B[0m     \u001B[0mhtml\u001B[0m \u001B[1;33m=\u001B[0m \u001B[0mresp\u001B[0m\u001B[1;33m.\u001B[0m\u001B[0mtext\u001B[0m\u001B[1;33m\u001B[0m\u001B[1;33m\u001B[0m\u001B[0m\n\u001B[1;32m----> 3\u001B[1;33m     \u001B[0mdf_list\u001B[0m \u001B[1;33m=\u001B[0m \u001B[0mpd\u001B[0m\u001B[1;33m.\u001B[0m\u001B[0mread_html\u001B[0m\u001B[1;33m(\u001B[0m\u001B[0mhtml\u001B[0m\u001B[1;33m)\u001B[0m\u001B[1;33m\u001B[0m\u001B[1;33m\u001B[0m\u001B[0m\n\u001B[0m",
      "\u001B[1;32mD:\\Users\\24105\\anaconda3\\envs\\liyang_kg_py36\\lib\\site-packages\\pandas\\util\\_decorators.py\u001B[0m in \u001B[0;36mwrapper\u001B[1;34m(*args, **kwargs)\u001B[0m\n\u001B[0;32m    309\u001B[0m                     \u001B[0mstacklevel\u001B[0m\u001B[1;33m=\u001B[0m\u001B[0mstacklevel\u001B[0m\u001B[1;33m,\u001B[0m\u001B[1;33m\u001B[0m\u001B[1;33m\u001B[0m\u001B[0m\n\u001B[0;32m    310\u001B[0m                 )\n\u001B[1;32m--> 311\u001B[1;33m             \u001B[1;32mreturn\u001B[0m \u001B[0mfunc\u001B[0m\u001B[1;33m(\u001B[0m\u001B[1;33m*\u001B[0m\u001B[0margs\u001B[0m\u001B[1;33m,\u001B[0m \u001B[1;33m**\u001B[0m\u001B[0mkwargs\u001B[0m\u001B[1;33m)\u001B[0m\u001B[1;33m\u001B[0m\u001B[1;33m\u001B[0m\u001B[0m\n\u001B[0m\u001B[0;32m    312\u001B[0m \u001B[1;33m\u001B[0m\u001B[0m\n\u001B[0;32m    313\u001B[0m         \u001B[1;32mreturn\u001B[0m \u001B[0mwrapper\u001B[0m\u001B[1;33m\u001B[0m\u001B[1;33m\u001B[0m\u001B[0m\n",
      "\u001B[1;32mD:\\Users\\24105\\anaconda3\\envs\\liyang_kg_py36\\lib\\site-packages\\pandas\\io\\html.py\u001B[0m in \u001B[0;36mread_html\u001B[1;34m(io, match, flavor, header, index_col, skiprows, attrs, parse_dates, thousands, encoding, decimal, converters, na_values, keep_default_na, displayed_only)\u001B[0m\n\u001B[0;32m   1111\u001B[0m         \u001B[0mna_values\u001B[0m\u001B[1;33m=\u001B[0m\u001B[0mna_values\u001B[0m\u001B[1;33m,\u001B[0m\u001B[1;33m\u001B[0m\u001B[1;33m\u001B[0m\u001B[0m\n\u001B[0;32m   1112\u001B[0m         \u001B[0mkeep_default_na\u001B[0m\u001B[1;33m=\u001B[0m\u001B[0mkeep_default_na\u001B[0m\u001B[1;33m,\u001B[0m\u001B[1;33m\u001B[0m\u001B[1;33m\u001B[0m\u001B[0m\n\u001B[1;32m-> 1113\u001B[1;33m         \u001B[0mdisplayed_only\u001B[0m\u001B[1;33m=\u001B[0m\u001B[0mdisplayed_only\u001B[0m\u001B[1;33m,\u001B[0m\u001B[1;33m\u001B[0m\u001B[1;33m\u001B[0m\u001B[0m\n\u001B[0m\u001B[0;32m   1114\u001B[0m     )\n",
      "\u001B[1;32mD:\\Users\\24105\\anaconda3\\envs\\liyang_kg_py36\\lib\\site-packages\\pandas\\io\\html.py\u001B[0m in \u001B[0;36m_parse\u001B[1;34m(flavor, io, match, attrs, encoding, displayed_only, **kwargs)\u001B[0m\n\u001B[0;32m    924\u001B[0m     \u001B[1;32melse\u001B[0m\u001B[1;33m:\u001B[0m\u001B[1;33m\u001B[0m\u001B[1;33m\u001B[0m\u001B[0m\n\u001B[0;32m    925\u001B[0m         \u001B[1;32massert\u001B[0m \u001B[0mretained\u001B[0m \u001B[1;32mis\u001B[0m \u001B[1;32mnot\u001B[0m \u001B[1;32mNone\u001B[0m  \u001B[1;31m# for mypy\u001B[0m\u001B[1;33m\u001B[0m\u001B[1;33m\u001B[0m\u001B[0m\n\u001B[1;32m--> 926\u001B[1;33m         \u001B[1;32mraise\u001B[0m \u001B[0mretained\u001B[0m\u001B[1;33m\u001B[0m\u001B[1;33m\u001B[0m\u001B[0m\n\u001B[0m\u001B[0;32m    927\u001B[0m \u001B[1;33m\u001B[0m\u001B[0m\n\u001B[0;32m    928\u001B[0m     \u001B[0mret\u001B[0m \u001B[1;33m=\u001B[0m \u001B[1;33m[\u001B[0m\u001B[1;33m]\u001B[0m\u001B[1;33m\u001B[0m\u001B[1;33m\u001B[0m\u001B[0m\n",
      "\u001B[1;32mD:\\Users\\24105\\anaconda3\\envs\\liyang_kg_py36\\lib\\site-packages\\pandas\\io\\html.py\u001B[0m in \u001B[0;36m_parse\u001B[1;34m(flavor, io, match, attrs, encoding, displayed_only, **kwargs)\u001B[0m\n\u001B[0;32m    904\u001B[0m \u001B[1;33m\u001B[0m\u001B[0m\n\u001B[0;32m    905\u001B[0m         \u001B[1;32mtry\u001B[0m\u001B[1;33m:\u001B[0m\u001B[1;33m\u001B[0m\u001B[1;33m\u001B[0m\u001B[0m\n\u001B[1;32m--> 906\u001B[1;33m             \u001B[0mtables\u001B[0m \u001B[1;33m=\u001B[0m \u001B[0mp\u001B[0m\u001B[1;33m.\u001B[0m\u001B[0mparse_tables\u001B[0m\u001B[1;33m(\u001B[0m\u001B[1;33m)\u001B[0m\u001B[1;33m\u001B[0m\u001B[1;33m\u001B[0m\u001B[0m\n\u001B[0m\u001B[0;32m    907\u001B[0m         \u001B[1;32mexcept\u001B[0m \u001B[0mValueError\u001B[0m \u001B[1;32mas\u001B[0m \u001B[0mcaught\u001B[0m\u001B[1;33m:\u001B[0m\u001B[1;33m\u001B[0m\u001B[1;33m\u001B[0m\u001B[0m\n\u001B[0;32m    908\u001B[0m             \u001B[1;31m# if `io` is an io-like object, check if it's seekable\u001B[0m\u001B[1;33m\u001B[0m\u001B[1;33m\u001B[0m\u001B[1;33m\u001B[0m\u001B[0m\n",
      "\u001B[1;32mD:\\Users\\24105\\anaconda3\\envs\\liyang_kg_py36\\lib\\site-packages\\pandas\\io\\html.py\u001B[0m in \u001B[0;36mparse_tables\u001B[1;34m(self)\u001B[0m\n\u001B[0;32m    220\u001B[0m         \u001B[0mlist\u001B[0m \u001B[0mof\u001B[0m \u001B[0mparsed\u001B[0m \u001B[1;33m(\u001B[0m\u001B[0mheader\u001B[0m\u001B[1;33m,\u001B[0m \u001B[0mbody\u001B[0m\u001B[1;33m,\u001B[0m \u001B[0mfooter\u001B[0m\u001B[1;33m)\u001B[0m \u001B[0mtuples\u001B[0m \u001B[1;32mfrom\u001B[0m \u001B[0mtables\u001B[0m\u001B[1;33m.\u001B[0m\u001B[1;33m\u001B[0m\u001B[1;33m\u001B[0m\u001B[0m\n\u001B[0;32m    221\u001B[0m         \"\"\"\n\u001B[1;32m--> 222\u001B[1;33m         \u001B[0mtables\u001B[0m \u001B[1;33m=\u001B[0m \u001B[0mself\u001B[0m\u001B[1;33m.\u001B[0m\u001B[0m_parse_tables\u001B[0m\u001B[1;33m(\u001B[0m\u001B[0mself\u001B[0m\u001B[1;33m.\u001B[0m\u001B[0m_build_doc\u001B[0m\u001B[1;33m(\u001B[0m\u001B[1;33m)\u001B[0m\u001B[1;33m,\u001B[0m \u001B[0mself\u001B[0m\u001B[1;33m.\u001B[0m\u001B[0mmatch\u001B[0m\u001B[1;33m,\u001B[0m \u001B[0mself\u001B[0m\u001B[1;33m.\u001B[0m\u001B[0mattrs\u001B[0m\u001B[1;33m)\u001B[0m\u001B[1;33m\u001B[0m\u001B[1;33m\u001B[0m\u001B[0m\n\u001B[0m\u001B[0;32m    223\u001B[0m         \u001B[1;32mreturn\u001B[0m \u001B[1;33m(\u001B[0m\u001B[0mself\u001B[0m\u001B[1;33m.\u001B[0m\u001B[0m_parse_thead_tbody_tfoot\u001B[0m\u001B[1;33m(\u001B[0m\u001B[0mtable\u001B[0m\u001B[1;33m)\u001B[0m \u001B[1;32mfor\u001B[0m \u001B[0mtable\u001B[0m \u001B[1;32min\u001B[0m \u001B[0mtables\u001B[0m\u001B[1;33m)\u001B[0m\u001B[1;33m\u001B[0m\u001B[1;33m\u001B[0m\u001B[0m\n\u001B[0;32m    224\u001B[0m \u001B[1;33m\u001B[0m\u001B[0m\n",
      "\u001B[1;32mD:\\Users\\24105\\anaconda3\\envs\\liyang_kg_py36\\lib\\site-packages\\pandas\\io\\html.py\u001B[0m in \u001B[0;36m_parse_tables\u001B[1;34m(self, doc, match, attrs)\u001B[0m\n\u001B[0;32m    550\u001B[0m \u001B[1;33m\u001B[0m\u001B[0m\n\u001B[0;32m    551\u001B[0m         \u001B[1;32mif\u001B[0m \u001B[1;32mnot\u001B[0m \u001B[0mtables\u001B[0m\u001B[1;33m:\u001B[0m\u001B[1;33m\u001B[0m\u001B[1;33m\u001B[0m\u001B[0m\n\u001B[1;32m--> 552\u001B[1;33m             \u001B[1;32mraise\u001B[0m \u001B[0mValueError\u001B[0m\u001B[1;33m(\u001B[0m\u001B[1;34m\"No tables found\"\u001B[0m\u001B[1;33m)\u001B[0m\u001B[1;33m\u001B[0m\u001B[1;33m\u001B[0m\u001B[0m\n\u001B[0m\u001B[0;32m    553\u001B[0m \u001B[1;33m\u001B[0m\u001B[0m\n\u001B[0;32m    554\u001B[0m         \u001B[0mresult\u001B[0m \u001B[1;33m=\u001B[0m \u001B[1;33m[\u001B[0m\u001B[1;33m]\u001B[0m\u001B[1;33m\u001B[0m\u001B[1;33m\u001B[0m\u001B[0m\n",
      "\u001B[1;31mValueError\u001B[0m: No tables found"
     ]
    }
   ],
   "source": [
    "if resp.status_code == 200:\n",
    "    html = resp.text\n",
    "    df_list = pd.read_html(html)\n"
   ],
   "metadata": {
    "collapsed": false
   }
  }
 ],
 "metadata": {
  "kernelspec": {
   "display_name": "Python 3",
   "language": "python",
   "name": "python3"
  },
  "language_info": {
   "codemirror_mode": {
    "name": "ipython",
    "version": 2
   },
   "file_extension": ".py",
   "mimetype": "text/x-python",
   "name": "python",
   "nbconvert_exporter": "python",
   "pygments_lexer": "ipython2",
   "version": "2.7.6"
  }
 },
 "nbformat": 4,
 "nbformat_minor": 0
}
